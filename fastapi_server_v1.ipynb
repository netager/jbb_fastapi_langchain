{
 "cells": [
  {
   "cell_type": "code",
   "execution_count": 2,
   "id": "08ac2e7e",
   "metadata": {},
   "outputs": [],
   "source": [
    "from rag.pdf import PDFRetrievalChain\n",
    "from dotenv import load_dotenv\n",
    "load_dotenv()\n",
    "\n",
    "pdf = PDFRetrievalChain().create_chain()\n",
    "pdf_retriever = pdf.retriever\n",
    "pdf_chain = pdf.chain\n"
   ]
  },
  {
   "cell_type": "code",
   "execution_count": 3,
   "id": "adc9a4c4",
   "metadata": {},
   "outputs": [],
   "source": [
    "question = \"정보보호위원회 위원에 대해 알려줘.\"\n",
    "search_results = pdf.process_search_results(question)"
   ]
  },
  {
   "cell_type": "code",
   "execution_count": null,
   "id": "8dfcdef1",
   "metadata": {},
   "outputs": [],
   "source": [
    "search_results"
   ]
  },
  {
   "cell_type": "code",
   "execution_count": 17,
   "id": "74d592af",
   "metadata": {},
   "outputs": [
    {
     "data": {
      "text/plain": [
       "'죄송합니다. 제공해주신 전북은행 E2007 계약직 및 업무지원직 지침의 제 48 조에 따르면, 체육문화활동비 지급은 사내근로복지기금사무지침을 준용한다고만 명시되어 있습니다. 따라서 체육문화활동비가 50만원인지에 대한 정보는 해당 지침에서 확인할 수 없습니다. \\n\\n체육문화활동비의 정확한 금액은 사내근로복지기금사무지침을 확인하시거나, 전북은행 인사팀에 문의하시는 것이 정확한 정보를 얻는 방법입니다.\\n'"
      ]
     },
     "execution_count": 17,
     "metadata": {},
     "output_type": "execute_result"
    }
   ],
   "source": [
    "question = \"사내 근로복지 기금 사무지침에서 정한 문화체육활동비에 대해 알려줘.\"\n",
    "question = \"전북은행 직원이 체육문화활동비 얼마를 받는지 알려줘.\"\n",
    "question = \"사내근로복지기금사무지침에 대해 알려주고 그 내용에 문화체육활동비에 대해 알려줘.\"\n",
    "question = \"체육문화활동비는 50만원 아니야?\"\n",
    "\n",
    "pdf_chain.invoke({\n",
    "    \"question\": question, \n",
    "    \"chat_history\": []\n",
    "})\n",
    "\n"
   ]
  },
  {
   "cell_type": "code",
   "execution_count": null,
   "id": "f516a620",
   "metadata": {},
   "outputs": [],
   "source": [
    "체육문화활동비는 50만원 아니야?"
   ]
  },
  {
   "cell_type": "code",
   "execution_count": 18,
   "id": "84800058",
   "metadata": {},
   "outputs": [
    {
     "data": {
      "text/plain": [
       "[Document(id='d85fc4d6-5fed-411c-b6d2-24708c1fde9d', metadata={'장': '제 7 장 복지후생', 'source': '../rag_data/jbb/규정/E2007 계약직 및 업무지원직 지침.md', 'page': 0, 'title': 'E2007 계약직 및 업무지원직 지침', '제목': '계약직 및 업무지원직 지침', '조': '제 48 조 (체육문화활동비 지급)'}, page_content='#### 제 48 조 (체육문화활동비 지급)   직원(전문직직원 제외)의 체육문화활동비 지급은 사내근로복지기금사무지침을 준용한다.\\n\\n문서 : 전북은행 E2007 계약직 및 업무지원직 지침')]"
      ]
     },
     "execution_count": 18,
     "metadata": {},
     "output_type": "execute_result"
    }
   ],
   "source": [
    "pdf_retriever.invoke(\"사내 근로복지 기금 사무지침에서 정한 문화체육활동비에 대해 알려줘.\")"
   ]
  },
  {
   "cell_type": "code",
   "execution_count": 23,
   "id": "12ad8cfa",
   "metadata": {},
   "outputs": [],
   "source": [
    "from abc import ABC, abstractmethod\n",
    "from operator import itemgetter\n",
    "\n",
    "from langchain_core.prompts import load_prompt\n",
    "from langchain_core.output_parsers import StrOutputParser\n",
    "# from langchain_community.vectorstores import FAISS\n",
    "from langchain_openai import OpenAIEmbeddings, ChatOpenAI\n",
    "from langchain_ollama import ChatOllama\n",
    "from langchain import hub\n",
    "from langchain_huggingface import HuggingFaceEmbeddings\n",
    "from langchain_chroma import Chroma\n",
    "from langchain_core.prompts import load_prompt\n",
    "from urllib.parse import urlencode"
   ]
  },
  {
   "cell_type": "code",
   "execution_count": 26,
   "id": "d9e9092c",
   "metadata": {},
   "outputs": [],
   "source": [
    "k = 3\n",
    "model_name = \"gemma3:12b\"\n",
    "ollama_url = \"http://localhost:11434\"\n",
    "model_path = \"/Users/netager/Docker_Data/openwebui-dify/rag_data/HUGGING_FACE_MODEL/BAAI_bge-m3\"\n",
    "chroma_path = \"/Users/netager/Docker_Data/openwebui-dify/rag_data/Chroma_DB_NEW/chroma_bank_law_db\"\n",
    "prompt_path = \"/Users/netager/Docker_Data/openwebui-dify/rag_data/prompts/law.yaml\"\n",
    "\n",
    "def create_embedding():\n",
    "    return HuggingFaceEmbeddings(\n",
    "        model_name= model_path,\n",
    "        model_kwargs={\"device\": \"mps\"},  # cpu : 'cpu', macOS: 'mps', CUDA: 'cuda'\n",
    "        encode_kwargs={\"normalize_embeddings\": True},\n",
    "    )\n",
    "\n",
    "def create_retriever(vectorstore):\n",
    "    return vectorstore.as_retriever(\n",
    "        search_type=\"similarity\", \n",
    "        search_kwargs={\"k\": k},\n",
    "        # Add mmr search for diversity\n",
    "        # search_type=\"mmr\",\n",
    "        # search_kwargs={\"k\": 1, \"fetch_k\": 3, \"lambda_mult\": 0.5}\n",
    "    )\n",
    "\n",
    "def create_vectorstore():\n",
    "    return Chroma(\n",
    "            persist_directory=chroma_path,\n",
    "            embedding_function=create_embedding(),\n",
    "            collection_name=\"bank_law_case\",\n",
    "        )"
   ]
  },
  {
   "cell_type": "code",
   "execution_count": 30,
   "id": "5fa6b4f7",
   "metadata": {},
   "outputs": [],
   "source": [
    "# vectorstore = create_vectorstore()\n",
    "\n",
    "def create_retriever(vectorstore):\n",
    "    return vectorstore.as_retriever(\n",
    "        search_type=\"similarity\", \n",
    "        search_kwargs={\"k\": 5},\n",
    "        # Add mmr search for diversity\n",
    "        # search_type=\"mmr\",\n",
    "        # search_kwargs={\"k\": 1, \"fetch_k\": 3, \"lambda_mult\": 0.5}\n",
    "    )\n",
    "\n",
    "retriever = create_retriever(vectorstore)"
   ]
  },
  {
   "cell_type": "code",
   "execution_count": null,
   "id": "b1661073",
   "metadata": {},
   "outputs": [],
   "source": []
  },
  {
   "cell_type": "code",
   "execution_count": 35,
   "id": "e5eaa872",
   "metadata": {},
   "outputs": [
    {
     "data": {
      "text/plain": [
       "[Document(id='1af05650-fc16-4902-bf5a-31e98d2353ca', metadata={'page': 0, 'title': 'F1003 사내근로복지기금 정관', '장': '제 1 장 총 칙', '제목': '사내 근로복지기금 정관', '조': '제 5 조 (사업)', 'source': '../rag_data/jbb/규정/F1003 사내근로복지기금 정관.md'}, page_content='#### 제 5 조 (사업)   ① 기금은 제2조의 목적을 달성하기 위하여 다음의 사업을 행한다.\\n1. 임 · 직원에 관련된 장학사업 2. 기타 사내근로복지기금법에 정한 범위 내에서 기금 협의회가 정하는 사업 ② 전항의 사업은 기금의 운영수익금으로 수행한다. 다만, 조성된 기금의 총액이 은행 자본금의 100분의 50을 초과하는 경우 그 초과액에 한 하여는 협의회가 의결한 기금 사용율 범위내에서 목적사업에 충당할 수 있다.\\n\\n문서 : 전북은행 F1003 사내근로복지기금 정관'),\n",
       " Document(id='4b30fc3b-40a2-4b4a-bc7a-525610f9eb2c', metadata={'source': '../rag_data/jbb/규정/F1003 사내근로복지기금 정관.md', 'title': 'F1003 사내근로복지기금 정관', 'page': 0}, page_content='전북은행 F1003 사내근로복지기금 정관 알려줘'),\n",
       " Document(id='7a5490ba-eac4-4612-907e-cf06d456fee2', metadata={'page': 0, 'title': 'F2006 사내근로복지기금 사무지침', 'source': '../rag_data/jbb/규정/F2006 사내근로복지기금 사무지침.md'}, page_content='전북은행 F2006 사내근로복지기금 사무지침 알려줘'),\n",
       " Document(id='eba2799d-52d0-4fc4-8005-8dc4ceeca8b4', metadata={'조': '제 1 조 (목적)', 'source': '../rag_data/jbb/규정/F2006 사내근로복지기금 사무지침.md', 'title': 'F2006 사내근로복지기금 사무지침', 'page': 0, '제목': '사내근로복지기금 사무 지침'}, page_content='#### 제 1 조 (목적)   이 지침은 재단법인 전북은행 사내근로복지기금(이하 「기금」이라 한다) 정관에서 규정하고 있는 목적 사업 등의 수행에 필요한 세부적인 사항을 정함을 목적으로 한다.\\n\\n문서 : 전북은행 F2006 사내근로복지기금 사무지침'),\n",
       " Document(id='7cf185a4-3ace-4cbc-a141-ef20a522237c', metadata={'제목': '사내 근로복지기금 정관', '조': '제 1 조 (명칭)', 'page': 0, '장': '제 1 장 총 칙', 'title': 'F1003 사내근로복지기금 정관', 'source': '../rag_data/jbb/규정/F1003 사내근로복지기금 정관.md'}, page_content='## 제 1 장 총 칙   #### 제 1 조 (명칭)   본 기금은 「재단법인 전북은행 사내근로복지기금」(이하 「기금」이라 한다)이라 한다.\\n\\n문서 : 전북은행 F1003 사내근로복지기금 정관')]"
      ]
     },
     "execution_count": 35,
     "metadata": {},
     "output_type": "execute_result"
    }
   ],
   "source": [
    "retriever.invoke(\"사내근로복지기금의 수행 사업에 대해 알려줘.\")"
   ]
  }
 ],
 "metadata": {
  "kernelspec": {
   "display_name": "langgraph",
   "language": "python",
   "name": "python3"
  },
  "language_info": {
   "codemirror_mode": {
    "name": "ipython",
    "version": 3
   },
   "file_extension": ".py",
   "mimetype": "text/x-python",
   "name": "python",
   "nbconvert_exporter": "python",
   "pygments_lexer": "ipython3",
   "version": "3.11.13"
  }
 },
 "nbformat": 4,
 "nbformat_minor": 5
}
